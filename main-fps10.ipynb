{
 "cells": [
  {
   "cell_type": "code",
   "execution_count": 9,
   "metadata": {},
   "outputs": [],
   "source": [
    "import os"
   ]
  },
  {
   "cell_type": "code",
   "execution_count": 10,
   "metadata": {},
   "outputs": [],
   "source": [
    "NUM_EXP = 120"
   ]
  },
  {
   "cell_type": "code",
   "execution_count": 11,
   "metadata": {},
   "outputs": [
    {
     "name": "stdout",
     "output_type": "stream",
     "text": [
      "python imgs2poses.py output/fps10/000/\n",
      "python imgs2poses.py output/fps10/001/\n",
      "python imgs2poses.py output/fps10/002/\n",
      "python imgs2poses.py output/fps10/003/\n",
      "python imgs2poses.py output/fps10/004/\n",
      "python imgs2poses.py output/fps10/005/\n",
      "python imgs2poses.py output/fps10/006/\n",
      "python imgs2poses.py output/fps10/007/\n",
      "python imgs2poses.py output/fps10/008/\n",
      "python imgs2poses.py output/fps10/009/\n",
      "python imgs2poses.py output/fps10/010/\n",
      "python imgs2poses.py output/fps10/011/\n",
      "python imgs2poses.py output/fps10/012/\n",
      "python imgs2poses.py output/fps10/013/\n",
      "python imgs2poses.py output/fps10/014/\n",
      "python imgs2poses.py output/fps10/015/\n",
      "python imgs2poses.py output/fps10/016/\n",
      "python imgs2poses.py output/fps10/017/\n",
      "python imgs2poses.py output/fps10/018/\n",
      "python imgs2poses.py output/fps10/019/\n",
      "python imgs2poses.py output/fps10/020/\n",
      "python imgs2poses.py output/fps10/021/\n",
      "python imgs2poses.py output/fps10/022/\n",
      "python imgs2poses.py output/fps10/023/\n",
      "python imgs2poses.py output/fps10/024/\n",
      "python imgs2poses.py output/fps10/025/\n",
      "python imgs2poses.py output/fps10/026/\n",
      "python imgs2poses.py output/fps10/027/\n",
      "python imgs2poses.py output/fps10/028/\n",
      "python imgs2poses.py output/fps10/029/\n",
      "python imgs2poses.py output/fps10/030/\n",
      "python imgs2poses.py output/fps10/031/\n",
      "python imgs2poses.py output/fps10/032/\n",
      "python imgs2poses.py output/fps10/033/\n",
      "python imgs2poses.py output/fps10/034/\n",
      "python imgs2poses.py output/fps10/035/\n",
      "python imgs2poses.py output/fps10/036/\n",
      "python imgs2poses.py output/fps10/037/\n",
      "python imgs2poses.py output/fps10/038/\n",
      "python imgs2poses.py output/fps10/039/\n",
      "python imgs2poses.py output/fps10/040/\n",
      "python imgs2poses.py output/fps10/041/\n",
      "python imgs2poses.py output/fps10/042/\n",
      "python imgs2poses.py output/fps10/043/\n",
      "python imgs2poses.py output/fps10/044/\n",
      "python imgs2poses.py output/fps10/045/\n",
      "python imgs2poses.py output/fps10/046/\n",
      "python imgs2poses.py output/fps10/047/\n",
      "python imgs2poses.py output/fps10/048/\n",
      "python imgs2poses.py output/fps10/049/\n",
      "python imgs2poses.py output/fps10/050/\n",
      "python imgs2poses.py output/fps10/051/\n",
      "python imgs2poses.py output/fps10/052/\n",
      "python imgs2poses.py output/fps10/053/\n",
      "python imgs2poses.py output/fps10/054/\n",
      "python imgs2poses.py output/fps10/055/\n",
      "python imgs2poses.py output/fps10/056/\n",
      "python imgs2poses.py output/fps10/057/\n",
      "python imgs2poses.py output/fps10/058/\n",
      "python imgs2poses.py output/fps10/059/\n",
      "python imgs2poses.py output/fps10/060/\n",
      "python imgs2poses.py output/fps10/061/\n",
      "python imgs2poses.py output/fps10/062/\n",
      "python imgs2poses.py output/fps10/063/\n",
      "python imgs2poses.py output/fps10/064/\n",
      "python imgs2poses.py output/fps10/065/\n",
      "python imgs2poses.py output/fps10/066/\n",
      "python imgs2poses.py output/fps10/067/\n",
      "python imgs2poses.py output/fps10/068/\n",
      "python imgs2poses.py output/fps10/069/\n",
      "python imgs2poses.py output/fps10/070/\n",
      "python imgs2poses.py output/fps10/071/\n",
      "python imgs2poses.py output/fps10/072/\n",
      "python imgs2poses.py output/fps10/073/\n",
      "python imgs2poses.py output/fps10/074/\n",
      "python imgs2poses.py output/fps10/075/\n",
      "python imgs2poses.py output/fps10/076/\n",
      "python imgs2poses.py output/fps10/077/\n",
      "python imgs2poses.py output/fps10/078/\n",
      "python imgs2poses.py output/fps10/079/\n",
      "python imgs2poses.py output/fps10/080/\n",
      "python imgs2poses.py output/fps10/081/\n",
      "python imgs2poses.py output/fps10/082/\n",
      "python imgs2poses.py output/fps10/083/\n",
      "python imgs2poses.py output/fps10/084/\n",
      "python imgs2poses.py output/fps10/085/\n",
      "python imgs2poses.py output/fps10/086/\n",
      "python imgs2poses.py output/fps10/087/\n",
      "python imgs2poses.py output/fps10/088/\n",
      "python imgs2poses.py output/fps10/089/\n",
      "python imgs2poses.py output/fps10/090/\n",
      "python imgs2poses.py output/fps10/091/\n",
      "python imgs2poses.py output/fps10/092/\n",
      "python imgs2poses.py output/fps10/093/\n",
      "python imgs2poses.py output/fps10/094/\n",
      "python imgs2poses.py output/fps10/095/\n",
      "python imgs2poses.py output/fps10/096/\n",
      "python imgs2poses.py output/fps10/097/\n",
      "python imgs2poses.py output/fps10/098/\n",
      "python imgs2poses.py output/fps10/099/\n",
      "python imgs2poses.py output/fps10/100/\n",
      "python imgs2poses.py output/fps10/101/\n",
      "python imgs2poses.py output/fps10/102/\n",
      "python imgs2poses.py output/fps10/103/\n",
      "python imgs2poses.py output/fps10/104/\n",
      "python imgs2poses.py output/fps10/105/\n",
      "python imgs2poses.py output/fps10/106/\n",
      "python imgs2poses.py output/fps10/107/\n",
      "python imgs2poses.py output/fps10/108/\n",
      "python imgs2poses.py output/fps10/109/\n",
      "python imgs2poses.py output/fps10/110/\n",
      "python imgs2poses.py output/fps10/111/\n",
      "python imgs2poses.py output/fps10/112/\n",
      "python imgs2poses.py output/fps10/113/\n",
      "python imgs2poses.py output/fps10/114/\n",
      "python imgs2poses.py output/fps10/115/\n",
      "python imgs2poses.py output/fps10/116/\n",
      "python imgs2poses.py output/fps10/117/\n",
      "python imgs2poses.py output/fps10/118/\n",
      "python imgs2poses.py output/fps10/119/\n",
      "53 [16, 17, 18, 23, 24, 45, 46, 47, 48, 49, 50, 51, 52, 53, 58, 59, 60, 61, 62, 73, 74, 88, 89, 90, 91, 92, 93, 94, 95, 96, 97, 98, 99, 100, 101, 102, 103, 104, 105, 106, 107, 108, 109, 110, 111, 112, 113, 114, 115, 116, 117, 118, 119]\n"
     ]
    }
   ],
   "source": [
    "for e in range(NUM_EXP):\n",
    "    os.system(f'mkdir -p output/fps10/{e:03d}/images/')\n",
    "    for i in range(1, 11):\n",
    "        os.system(f'cp output/fps10/images/{i + e:04d}.jpg output/fps10/{e:03d}/images/')\n",
    "\n",
    "for e in range(NUM_EXP):\n",
    "    print(f'python imgs2poses.py output/fps10/{e:03d}/')\n",
    "\n",
    "all_output = []\n",
    "\n",
    "for i in range(NUM_EXP):\n",
    "    # print(f'output/depth/{i:03d}/poses_bounds.npy')\n",
    "    if os.path.isfile(f'/data1/yijia.xiao/usda/LLFF/output/fps10/{i:03d}/poses_bounds.npy'):\n",
    "        all_output.append(i)\n",
    "\n",
    "print(len(all_output), all_output)\n",
    "\n",
    "# for e in range(NUM_EXP):\n",
    "#     os.system(f'mkdir -p output/depth/{e:03d}/images/')\n",
    "#     for i in range(1, 11):\n",
    "#         os.system(f'cp output/fps2/images/{i + e:04d}.jpg output/depth/{e:03d}/images/')\n",
    "\n",
    "# for e in range(NUM_EXP):\n",
    "#     print(f'python imgs2poses.py output/depth/{e:03d}/')\n",
    "\n",
    "# all_output = []\n",
    "# for i in range(NUM_EXP):\n",
    "#     # print(f'output/depth/{i:03d}/poses_bounds.npy')\n",
    "#     if os.path.isfile(f'/data1/yijia.xiao/usda/LLFF/output/depth/{i:03d}/poses_bounds.npy'):\n",
    "#         all_output.append(i)\n",
    "\n",
    "# print(len(all_output), all_output)"
   ]
  },
  {
   "cell_type": "code",
   "execution_count": 12,
   "metadata": {},
   "outputs": [
    {
     "name": "stdout",
     "output_type": "stream",
     "text": [
      "[16, 17, 18, 23, 24, 45, 46, 47, 48, 49, 50, 51, 52, 53, 58, 59, 60, 61, 62, 73, 74, 88, 89, 90, 91, 92, 93, 94, 95, 96, 97, 98, 99, 100, 101, 102, 103, 104, 105, 106, 107, 108, 109, 110, 111, 112, 113, 114, 115, 116, 117, 118, 119] 53\n"
     ]
    }
   ],
   "source": [
    "# valid = all_output[3:-18]\n",
    "valid = all_output\n",
    "print(valid, len(valid))"
   ]
  },
  {
   "cell_type": "code",
   "execution_count": 15,
   "metadata": {},
   "outputs": [
    {
     "name": "stdout",
     "output_type": "stream",
     "text": [
      "Loaded image data (760, 1352, 3, 10) [ 760.         1352.          998.33078192]\n",
      "Loaded image data (760, 1352, 3, 10) [ 760.         1352.          997.40003284]\n",
      "Loaded image data (760, 1352, 3, 10) [ 760.         1352.          998.64438839]\n",
      "Loaded image data (760, 1352, 3, 10) [ 760.         1352.         1010.25684393]\n",
      "Loaded image data (760, 1352, 3, 10) [ 760.         1352.         1017.21728746]\n",
      "Loaded image data (760, 1352, 3, 10) [ 760.         1352.         1093.02248871]\n",
      "Loaded image data (760, 1352, 3, 10) [ 760.         1352.         1069.61216819]\n",
      "Loaded image data (760, 1352, 3, 10) [ 760.         1352.         1050.59783375]\n",
      "Loaded image data (760, 1352, 3, 10) [ 760.         1352.         1033.25976859]\n",
      "Loaded image data (760, 1352, 3, 10) [ 760.        1352.        1038.5928341]\n",
      "Loaded image data (760, 1352, 3, 10) [ 760.         1352.         1032.50250696]\n",
      "Loaded image data (760, 1352, 3, 10) [ 760.         1352.         1032.69339304]\n",
      "Loaded image data (760, 1352, 3, 10) [ 760.         1352.         1017.13304069]\n",
      "Loaded image data (760, 1352, 3, 10) [ 760.         1352.         1004.96462406]\n",
      "Loaded image data (760, 1352, 3, 10) [ 760.         1352.         1027.21660037]\n",
      "Loaded image data (760, 1352, 3, 10) [ 760.         1352.         1033.03659937]\n",
      "Loaded image data (760, 1352, 3, 10) [ 760.         1352.         1047.15127796]\n",
      "Loaded image data (760, 1352, 3, 10) [ 760.         1352.         1066.13507871]\n",
      "Loaded image data (760, 1352, 3, 10) [ 760.         1352.         1047.20898362]\n",
      "Loaded image data (760, 1352, 3, 10) [ 760.         1352.          997.76828618]\n",
      "Loaded image data (760, 1352, 3, 10) [ 760.         1352.         1038.84640667]\n",
      "Loaded image data (760, 1352, 3, 10) [ 760.         1352.         1002.13409849]\n",
      "Loaded image data (760, 1352, 3, 10) [ 760.         1352.          993.17663941]\n",
      "Loaded image data (760, 1352, 3, 10) [ 760.         1352.          990.67959161]\n",
      "Loaded image data (760, 1352, 3, 10) [ 760.         1352.          999.86109663]\n",
      "Loaded image data (760, 1352, 3, 10) [ 760.         1352.          987.84014446]\n",
      "Loaded image data (760, 1352, 3, 10) [ 760.         1352.          983.95971662]\n",
      "Loaded image data (760, 1352, 3, 10) [ 760.         1352.          984.02131175]\n",
      "Loaded image data (760, 1352, 3, 10) [ 760.         1352.          986.88193263]\n",
      "Loaded image data (760, 1352, 3, 10) [ 760.         1352.          992.90218758]\n",
      "Loaded image data (760, 1352, 3, 10) [ 760.        1352.         998.7647492]\n",
      "Loaded image data (760, 1352, 3, 10) [ 760.         1352.          995.70281739]\n",
      "Loaded image data (760, 1352, 3, 10) [ 760.        1352.        1004.6446234]\n",
      "Loaded image data (760, 1352, 3, 10) [ 760.         1352.         1010.51888619]\n",
      "Loaded image data (760, 1352, 3, 10) [ 760.         1352.         1006.38736697]\n",
      "Loaded image data (760, 1352, 3, 10) [ 760.         1352.          998.54978422]\n",
      "Loaded image data (760, 1352, 3, 10) [ 760.         1352.          998.92440849]\n",
      "Loaded image data (760, 1352, 3, 10) [ 760.         1352.          994.61007822]\n",
      "Loaded image data (760, 1352, 3, 10) [ 760.         1352.          996.87599411]\n",
      "Loaded image data (760, 1352, 3, 10) [ 760.         1352.         1007.08135487]\n",
      "Loaded image data (760, 1352, 3, 10) [ 760.         1352.         1026.30103038]\n",
      "Loaded image data (760, 1352, 3, 10) [ 760.         1352.         1042.01675527]\n",
      "Loaded image data (760, 1352, 3, 10) [ 760.         1352.         1055.86825797]\n",
      "Loaded image data (760, 1352, 3, 10) [ 760.         1352.         1047.43056161]\n",
      "Loaded image data (760, 1352, 3, 10) [ 760.         1352.         1027.30971648]\n",
      "Loaded image data (760, 1352, 3, 10) [ 760.         1352.         1021.37435972]\n",
      "Loaded image data (760, 1352, 3, 10) [ 760.         1352.         1020.66932952]\n",
      "Loaded image data (760, 1352, 3, 10) [ 760.         1352.         1020.85782511]\n",
      "Loaded image data (760, 1352, 3, 10) [ 760.         1352.         1009.07117564]\n",
      "Loaded image data (760, 1352, 3, 10) [ 760.         1352.          993.78675536]\n",
      "Loaded image data (760, 1352, 3, 10) [ 760.         1352.          986.00335933]\n",
      "Loaded image data (760, 1352, 3, 10) [ 760.         1352.          987.84496256]\n",
      "Loaded image data (760, 1352, 3, 10) [ 760.         1352.          989.15745904]\n"
     ]
    }
   ],
   "source": [
    "from load import load_data\n",
    "\n",
    "# NUM_EXP = 30\n",
    "pose_data = []\n",
    "\n",
    "pose_dict = dict()\n",
    "# for e in range(NUM_EXP):\n",
    "for e in valid:\n",
    "    pose_data.append(load_data(basedir=f'output/fps10/{e:03d}/'))\n",
    "    pose_dict[e] = pose_data[-1]"
   ]
  },
  {
   "cell_type": "code",
   "execution_count": 16,
   "metadata": {},
   "outputs": [
    {
     "data": {
      "text/plain": [
       "53"
      ]
     },
     "execution_count": 16,
     "metadata": {},
     "output_type": "execute_result"
    }
   ],
   "source": [
    "len(pose_data)"
   ]
  },
  {
   "cell_type": "code",
   "execution_count": 47,
   "metadata": {},
   "outputs": [],
   "source": [
    "idx2depth = dict()\n",
    "\n",
    "for i in range(NUM_EXP):\n",
    "    if i not in valid:\n",
    "        idx2depth[i] = None\n",
    "    else:\n",
    "        idx2depth[i] = pose_dict[i]"
   ]
  },
  {
   "cell_type": "code",
   "execution_count": 48,
   "metadata": {},
   "outputs": [
    {
     "data": {
      "text/plain": [
       "((15.077830082516462,\n",
       "  134.47929206123567,\n",
       "  48.75534980648361,\n",
       "  28.587099469772976),\n",
       " (52.00522971076626,\n",
       "  387.06664683206174,\n",
       "  135.69218106265922,\n",
       "  88.65753373681376))"
      ]
     },
     "execution_count": 48,
     "metadata": {},
     "output_type": "execute_result"
    }
   ],
   "source": [
    "CLOSE, INF = [], []\n",
    "\n",
    "for idx, depth in idx2depth.items():\n",
    "    if depth:\n",
    "        close, inf = depth[1]\n",
    "        # print(close.shape)\n",
    "        CLOSE.extend(close)\n",
    "        INF.extend(inf)\n",
    "\n",
    "import statistics\n",
    "\n",
    "def calc_min_max_mean_dev(L):\n",
    "    return min(L), max(L), sum(L) / len(L), statistics.stdev(L)\n",
    "\n",
    "calc_min_max_mean_dev(CLOSE), calc_min_max_mean_dev(INF)"
   ]
  },
  {
   "cell_type": "code",
   "execution_count": 18,
   "metadata": {},
   "outputs": [
    {
     "data": {
      "text/plain": [
       "((3, 5, 10), (2, 10))"
      ]
     },
     "execution_count": 18,
     "metadata": {},
     "output_type": "execute_result"
    }
   ],
   "source": [
    "pose_data[0][0].shape, pose_data[0][1].shape"
   ]
  },
  {
   "cell_type": "code",
   "execution_count": 19,
   "metadata": {},
   "outputs": [
    {
     "data": {
      "text/plain": [
       "((3, 5, 10), (2, 10))"
      ]
     },
     "execution_count": 19,
     "metadata": {},
     "output_type": "execute_result"
    }
   ],
   "source": [
    "pose_data[1][0].shape, pose_data[1][1].shape"
   ]
  },
  {
   "cell_type": "code",
   "execution_count": 20,
   "metadata": {},
   "outputs": [],
   "source": [
    "# depth_data = []\n",
    "\n",
    "# for idx, pose in enumerate(pose_data):\n",
    "#     if not pose:\n",
    "#         print(idx, pose)\n",
    "#     depth_data.append(pose[1])"
   ]
  },
  {
   "cell_type": "code",
   "execution_count": 21,
   "metadata": {},
   "outputs": [],
   "source": [
    "# fps=2. 11 images per group, 30 groups in all. Discard first 5 (2 groups failed)\n",
    "# for depth in depth_data:\n",
    "#     print(depth_data)"
   ]
  },
  {
   "cell_type": "code",
   "execution_count": 22,
   "metadata": {},
   "outputs": [],
   "source": [
    "# len(idx2depth)"
   ]
  },
  {
   "cell_type": "code",
   "execution_count": 23,
   "metadata": {},
   "outputs": [],
   "source": [
    "# depth_data"
   ]
  },
  {
   "cell_type": "code",
   "execution_count": 25,
   "metadata": {},
   "outputs": [],
   "source": [
    "# idx2depth"
   ]
  },
  {
   "cell_type": "code",
   "execution_count": 26,
   "metadata": {},
   "outputs": [],
   "source": [
    "# idx2depth[0][1]"
   ]
  },
  {
   "cell_type": "code",
   "execution_count": 29,
   "metadata": {},
   "outputs": [
    {
     "data": {
      "text/plain": [
       "array([[ 99.35769801, 100.52477461,  99.12780594,  98.74574273,\n",
       "         98.89120915,  99.59578295,  98.80710539,  99.73623032,\n",
       "        101.01953895, 102.82886963],\n",
       "       [309.58579287, 308.49149603, 304.37873763, 303.81792175,\n",
       "        299.78361115, 298.93301569, 297.95104128, 300.67443952,\n",
       "        301.64141638, 305.95563457]])"
      ]
     },
     "execution_count": 29,
     "metadata": {},
     "output_type": "execute_result"
    }
   ],
   "source": [
    "idx2depth[16][1]"
   ]
  },
  {
   "cell_type": "code",
   "execution_count": 41,
   "metadata": {},
   "outputs": [
    {
     "ename": "KeyError",
     "evalue": "16",
     "output_type": "error",
     "traceback": [
      "\u001b[0;31m---------------------------------------------------------------------------\u001b[0m",
      "\u001b[0;31mKeyError\u001b[0m                                  Traceback (most recent call last)",
      "\u001b[0;32m/tmp/ipykernel_3059521/1199269572.py\u001b[0m in \u001b[0;36m<module>\u001b[0;34m\u001b[0m\n\u001b[1;32m     10\u001b[0m \u001b[0;31m# depth_data = idx2depth\u001b[0m\u001b[0;34m\u001b[0m\u001b[0;34m\u001b[0m\u001b[0;34m\u001b[0m\u001b[0m\n\u001b[1;32m     11\u001b[0m \u001b[0;32mfor\u001b[0m \u001b[0mi\u001b[0m \u001b[0;32min\u001b[0m \u001b[0mrange\u001b[0m\u001b[0;34m(\u001b[0m\u001b[0mlen\u001b[0m\u001b[0;34m(\u001b[0m\u001b[0midx2depth\u001b[0m\u001b[0;34m)\u001b[0m\u001b[0;34m)\u001b[0m\u001b[0;34m:\u001b[0m\u001b[0;34m\u001b[0m\u001b[0;34m\u001b[0m\u001b[0m\n\u001b[0;32m---> 12\u001b[0;31m     \u001b[0;32mfor\u001b[0m \u001b[0mj\u001b[0m \u001b[0;32min\u001b[0m \u001b[0mrange\u001b[0m\u001b[0;34m(\u001b[0m\u001b[0mlen\u001b[0m\u001b[0;34m(\u001b[0m\u001b[0midx2depth\u001b[0m\u001b[0;34m[\u001b[0m\u001b[0;36m16\u001b[0m\u001b[0;34m]\u001b[0m\u001b[0;34m[\u001b[0m\u001b[0;36m1\u001b[0m\u001b[0;34m]\u001b[0m\u001b[0;34m)\u001b[0m\u001b[0;34m)\u001b[0m\u001b[0;34m:\u001b[0m\u001b[0;34m\u001b[0m\u001b[0;34m\u001b[0m\u001b[0m\n\u001b[0m\u001b[1;32m     13\u001b[0m         \u001b[0mx\u001b[0m\u001b[0;34m.\u001b[0m\u001b[0mappend\u001b[0m\u001b[0;34m(\u001b[0m\u001b[0mi\u001b[0m \u001b[0;34m+\u001b[0m \u001b[0mj\u001b[0m\u001b[0;34m)\u001b[0m\u001b[0;34m\u001b[0m\u001b[0;34m\u001b[0m\u001b[0m\n\u001b[1;32m     14\u001b[0m         \u001b[0;32mif\u001b[0m \u001b[0midx2depth\u001b[0m\u001b[0;34m[\u001b[0m\u001b[0mi\u001b[0m\u001b[0;34m]\u001b[0m \u001b[0;32mis\u001b[0m \u001b[0;32mnot\u001b[0m \u001b[0;32mNone\u001b[0m\u001b[0;34m:\u001b[0m\u001b[0;34m\u001b[0m\u001b[0;34m\u001b[0m\u001b[0m\n",
      "\u001b[0;31mKeyError\u001b[0m: 16"
     ]
    }
   ],
   "source": [
    "import sys\n",
    "import matplotlib.pyplot as plt\n",
    "import numpy as np\n",
    "\n",
    "%matplotlib inline\n",
    "# x = np.array([5,7,8,7,2,17,2,9,4,11,12,9,6])\n",
    "# y = np.array([99,86,87,88,111,86,103,87,94,78,77,85,86])\n",
    "x, y = [], []\n",
    "\n",
    "# depth_data = idx2depth\n",
    "for i in range(len(idx2depth)):\n",
    "    for j in range(len(idx2depth[16][1])):\n",
    "        x.append(i + j)\n",
    "        if idx2depth[i] is not None:\n",
    "            y.append(idx2depth[i][1][0][j])\n",
    "        else:\n",
    "            y.append(0)\n",
    "        # y.append(depth_data[i][0][j])\n",
    "\n",
    "\n",
    "x, y = np.array(x), np.array(y)\n",
    "plt.scatter(x, y)\n",
    "\n",
    "\n",
    "x, y = [], []\n",
    "for i in range(len(idx2depth)):\n",
    "    for j in range(len(idx2depth[16][1])):\n",
    "        x.append(i + j)\n",
    "        # y.append(depth_data[i][1][j])\n",
    "        if idx2depth[i] is not None:\n",
    "            y.append(idx2depth[i][1][1][j])\n",
    "        else:\n",
    "            y.append(0)\n",
    "\n",
    "x, y = np.array(x), np.array(y)\n",
    "plt.scatter(x, y)\n",
    "\n",
    "plt.title('FPS = 10\\nClose and Inf Depth\\nBlue dots: close depth. Yellow dots: infinity depth.')\n",
    "\n",
    "plt.xlabel('frame index')\n",
    "plt.ylabel('depth')\n",
    "\n",
    "# plt.show()\n",
    "plt.savefig('./fps10-120.png')"
   ]
  },
  {
   "cell_type": "code",
   "execution_count": 32,
   "metadata": {},
   "outputs": [],
   "source": [
    "p = {\n",
    "    k: v\n",
    "    for k, v in idx2depth.items() if k >= 88\n",
    "}\n"
   ]
  },
  {
   "cell_type": "code",
   "execution_count": 34,
   "metadata": {},
   "outputs": [],
   "source": [
    "# idx2depth[87]"
   ]
  },
  {
   "cell_type": "code",
   "execution_count": 44,
   "metadata": {},
   "outputs": [
    {
     "data": {
      "image/png": "[encoded data removed]",
      "text/plain": [
       "<Figure size 640x480 with 1 Axes>"
      ]
     },
     "metadata": {},
     "output_type": "display_data"
    }
   ],
   "source": [
    "import sys\n",
    "import matplotlib.pyplot as plt\n",
    "import numpy as np\n",
    "\n",
    "%matplotlib inline\n",
    "# x = np.array([5,7,8,7,2,17,2,9,4,11,12,9,6])\n",
    "# y = np.array([99,86,87,88,111,86,103,87,94,78,77,85,86])\n",
    "x, y = [], []\n",
    "\n",
    "# depth_data = idx2depth\n",
    "idx2depth = {\n",
    "    k: v\n",
    "    for k, v in idx2depth.items() if k >= 88\n",
    "}\n",
    "for i in range(len(idx2depth)):\n",
    "    for j in range(len(idx2depth[88][1])):\n",
    "        x.append(i + j + 88)\n",
    "        if idx2depth[i + 88] is not None:\n",
    "            y.append(idx2depth[i + 88][1][0][j])\n",
    "        else:\n",
    "            y.append(0)\n",
    "        # y.append(depth_data[i][0][j])\n",
    "\n",
    "\n",
    "x, y = np.array(x), np.array(y)\n",
    "plt.scatter(x, y)\n",
    "\n",
    "\n",
    "x, y = [], []\n",
    "for i in range(len(idx2depth)):\n",
    "    for j in range(len(idx2depth[88][1])):\n",
    "        x.append(i + j + 88)\n",
    "        # y.append(depth_data[i][1][j])\n",
    "        if idx2depth[i + 88] is not None:\n",
    "            y.append(idx2depth[i + 88][1][1][j])\n",
    "        else:\n",
    "            y.append(0)\n",
    "\n",
    "x, y = np.array(x), np.array(y)\n",
    "plt.scatter(x, y)\n",
    "\n",
    "plt.title('FPS=10    Close and Inf Depth\\nBlue dots: close depth. Yellow dots: infinity depth.')\n",
    "\n",
    "plt.xlabel('frame index')\n",
    "plt.ylabel('depth')\n",
    "\n",
    "# plt.show()\n",
    "plt.savefig('./fps10-30.png')"
   ]
  },
  {
   "cell_type": "code",
   "execution_count": null,
   "metadata": {},
   "outputs": [],
   "source": [
    "CLOSE, INF = [], []\n",
    "\n",
    "for idx, depth in idx2depth.items():\n",
    "    if depth:\n",
    "        close, inf = depth[1]\n",
    "        # print(close.shape)\n",
    "        CLOSE.extend(close)\n",
    "        INF.extend(inf)\n",
    "\n",
    "import statistics\n",
    "\n",
    "def calc_min_max_mean_dev(L):\n",
    "    return min(L), max(L), sum(L) / len(L), statistics.stdev(L)\n",
    "\n",
    "calc_min_max_mean_dev(CLOSE), calc_min_max_mean_dev(INF)"
   ]
  },
  {
   "cell_type": "code",
   "execution_count": 46,
   "metadata": {},
   "outputs": [
    {
     "data": {
      "text/plain": [
       "32"
      ]
     },
     "execution_count": 46,
     "metadata": {},
     "output_type": "execute_result"
    }
   ],
   "source": [
    "len(idx2depth)"
   ]
  },
  {
   "cell_type": "code",
   "execution_count": 45,
   "metadata": {},
   "outputs": [
    {
     "data": {
      "text/plain": [
       "((15.077830082516462,\n",
       "  134.47929206123567,\n",
       "  35.819635891580525,\n",
       "  19.03043770384038),\n",
       " (52.00522971076626, 387.06664683206174, 96.30878911171901, 69.11328967545234))"
      ]
     },
     "execution_count": 45,
     "metadata": {},
     "output_type": "execute_result"
    }
   ],
   "source": [
    "CLOSE, INF = [], []\n",
    "\n",
    "for idx, depth in idx2depth.items():\n",
    "    if depth:\n",
    "        close, inf = depth[1]\n",
    "        # print(close.shape)\n",
    "        CLOSE.extend(close)\n",
    "        INF.extend(inf)\n",
    "\n",
    "import statistics\n",
    "\n",
    "def calc_min_max_mean_dev(L):\n",
    "    return min(L), max(L), sum(L) / len(L), statistics.stdev(L)\n",
    "\n",
    "calc_min_max_mean_dev(CLOSE), calc_min_max_mean_dev(INF)"
   ]
  },
  {
   "cell_type": "code",
   "execution_count": 30,
   "metadata": {},
   "outputs": [],
   "source": [
    "CLOSE, INF = [], []\n",
    "\n",
    "for close, inf in depth_data:\n",
    "    # print(close.shape)\n",
    "    CLOSE.extend(close)\n",
    "    INF.extend(inf)"
   ]
  },
  {
   "cell_type": "code",
   "execution_count": 32,
   "metadata": {},
   "outputs": [],
   "source": [
    "import statistics\n",
    "\n",
    "def calc_min_max_mean_dev(L):\n",
    "    return min(L), max(L), sum(L) / len(L), statistics.stdev(L)"
   ]
  },
  {
   "cell_type": "code",
   "execution_count": 34,
   "metadata": {},
   "outputs": [
    {
     "data": {
      "text/plain": [
       "((5.589821102440255, 68.38848325165748, 17.09632806600643, 14.122085123784718),\n",
       " (9.350534285483427, 174.23050509235833, 44.73080282791705, 42.079562196427))"
      ]
     },
     "execution_count": 34,
     "metadata": {},
     "output_type": "execute_result"
    }
   ],
   "source": [
    "calc_min_max_mean_dev(CLOSE), calc_min_max_mean_dev(INF)"
   ]
  },
  {
   "cell_type": "code",
   "execution_count": 36,
   "metadata": {},
   "outputs": [
    {
     "data": {
      "text/plain": [
       "((5.589821102440255,\n",
       "  49.681047097241375,\n",
       "  15.141958711621692,\n",
       "  10.920568805929127),\n",
       " (9.350534285483427,\n",
       "  74.52626776687083,\n",
       "  20.122211109877714,\n",
       "  11.730968776620012))"
      ]
     },
     "execution_count": 36,
     "metadata": {},
     "output_type": "execute_result"
    }
   ],
   "source": [
    "calc_min_max_mean_dev([i for i in CLOSE if i < 50]), calc_min_max_mean_dev([i for i in INF if i < 75])"
   ]
  },
  {
   "cell_type": "code",
   "execution_count": 17,
   "metadata": {},
   "outputs": [
    {
     "data": {
      "image/png": "[encoded data removed]",
      "text/plain": [
       "<Figure size 640x480 with 1 Axes>"
      ]
     },
     "metadata": {},
     "output_type": "display_data"
    }
   ],
   "source": [
    "import sys\n",
    "import matplotlib.pyplot as plt\n",
    "import numpy as np\n",
    "\n",
    "%matplotlib inline\n",
    "# x = np.array([5,7,8,7,2,17,2,9,4,11,12,9,6])\n",
    "# y = np.array([99,86,87,88,111,86,103,87,94,78,77,85,86])\n",
    "x, y = [], []\n",
    "\n",
    "for i in range(len(depth_data)):\n",
    "    for j in range(len(depth_data[0][0])):\n",
    "        x.append(i + j)\n",
    "        y.append(depth_data[i][1][j])\n",
    "\n",
    "x, y = np.array(x), np.array(y)\n",
    "plt.scatter(x, y)\n",
    "plt.show()"
   ]
  },
  {
   "cell_type": "code",
   "execution_count": 12,
   "metadata": {},
   "outputs": [
    {
     "data": {
      "image/png": "[encoded data removed]",
      "text/plain": [
       "<Figure size 640x480 with 1 Axes>"
      ]
     },
     "metadata": {},
     "output_type": "display_data"
    }
   ],
   "source": [
    "import sys\n",
    "import matplotlib.pyplot as plt\n",
    "import numpy as np\n",
    "\n",
    "%matplotlib inline\n",
    "\n",
    "x = np.array([5,7,8,7,2,17,2,9,4,11,12,9,6])\n",
    "y = np.array([99,86,87,88,111,86,103,87,94,78,77,85,86])\n",
    "plt.scatter(x, y)\n",
    "\n",
    "x = np.array([2,2,8,1,15,8,12,9,7,3,11,4,7,14,12])\n",
    "y = np.array([100,105,84,105,90,99,90,95,94,100,79,112,91,80,85])\n",
    "plt.scatter(x, y)\n",
    "\n",
    "x = np.array([2,2,8,1,15,8,12,9,7,3,11,4,7,14,12])\n",
    "y = np.array([100,105,84,105,90,99,90,95,94,100,79,112,91,80,85])\n",
    "plt.scatter(x, y)\n",
    "\n",
    "plt.show()"
   ]
  },
  {
   "cell_type": "code",
   "execution_count": null,
   "metadata": {},
   "outputs": [],
   "source": []
  }
 ],
 "metadata": {
  "kernelspec": {
   "display_name": "Python 3 (ipykernel)",
   "language": "python",
   "name": "python3"
  },
  "language_info": {
   "codemirror_mode": {
    "name": "ipython",
    "version": 3
   },
   "file_extension": ".py",
   "mimetype": "text/x-python",
   "name": "python",
   "nbconvert_exporter": "python",
   "pygments_lexer": "ipython3",
   "version": "3.7.12"
  },
  "vscode": {
   "interpreter": {
    "hash": "93321e96149674ab92bc94649b480f5b7023554cb203db457dbdde0d120d52d6"
   }
  }
 },
 "nbformat": 4,
 "nbformat_minor": 2
}
