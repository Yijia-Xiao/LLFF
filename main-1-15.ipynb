{
 "cells": [
  {
   "cell_type": "code",
   "execution_count": 136,
   "metadata": {},
   "outputs": [],
   "source": [
    "import os"
   ]
  },
  {
   "cell_type": "code",
   "execution_count": 137,
   "metadata": {},
   "outputs": [],
   "source": [
    "NUM_EXP = 120"
   ]
  },
  {
   "cell_type": "code",
   "execution_count": 138,
   "metadata": {},
   "outputs": [],
   "source": [
    "for e in range(NUM_EXP):\n",
    "    os.system(f'mkdir -p output/depth/{e:03d}/images/')\n",
    "    for i in range(1, 11):\n",
    "        os.system(f'cp output/fps2/images/{i + e:04d}.jpg output/depth/{e:03d}/images/')"
   ]
  },
  {
   "cell_type": "code",
   "execution_count": 144,
   "metadata": {},
   "outputs": [
    {
     "name": "stdout",
     "output_type": "stream",
     "text": [
      "python imgs2poses.py output/depth/000/\n",
      "python imgs2poses.py output/depth/001/\n",
      "python imgs2poses.py output/depth/002/\n",
      "python imgs2poses.py output/depth/003/\n",
      "python imgs2poses.py output/depth/004/\n",
      "python imgs2poses.py output/depth/005/\n",
      "python imgs2poses.py output/depth/006/\n",
      "python imgs2poses.py output/depth/007/\n",
      "python imgs2poses.py output/depth/008/\n",
      "python imgs2poses.py output/depth/009/\n",
      "python imgs2poses.py output/depth/010/\n",
      "python imgs2poses.py output/depth/011/\n",
      "python imgs2poses.py output/depth/012/\n",
      "python imgs2poses.py output/depth/013/\n",
      "python imgs2poses.py output/depth/014/\n",
      "python imgs2poses.py output/depth/015/\n",
      "python imgs2poses.py output/depth/016/\n",
      "python imgs2poses.py output/depth/017/\n",
      "python imgs2poses.py output/depth/018/\n",
      "python imgs2poses.py output/depth/019/\n",
      "python imgs2poses.py output/depth/020/\n",
      "python imgs2poses.py output/depth/021/\n",
      "python imgs2poses.py output/depth/022/\n",
      "python imgs2poses.py output/depth/023/\n",
      "python imgs2poses.py output/depth/024/\n",
      "python imgs2poses.py output/depth/025/\n",
      "python imgs2poses.py output/depth/026/\n",
      "python imgs2poses.py output/depth/027/\n",
      "python imgs2poses.py output/depth/028/\n",
      "python imgs2poses.py output/depth/029/\n",
      "python imgs2poses.py output/depth/030/\n",
      "python imgs2poses.py output/depth/031/\n",
      "python imgs2poses.py output/depth/032/\n",
      "python imgs2poses.py output/depth/033/\n",
      "python imgs2poses.py output/depth/034/\n",
      "python imgs2poses.py output/depth/035/\n",
      "python imgs2poses.py output/depth/036/\n",
      "python imgs2poses.py output/depth/037/\n",
      "python imgs2poses.py output/depth/038/\n",
      "python imgs2poses.py output/depth/039/\n",
      "python imgs2poses.py output/depth/040/\n",
      "python imgs2poses.py output/depth/041/\n",
      "python imgs2poses.py output/depth/042/\n",
      "python imgs2poses.py output/depth/043/\n",
      "python imgs2poses.py output/depth/044/\n",
      "python imgs2poses.py output/depth/045/\n",
      "python imgs2poses.py output/depth/046/\n",
      "python imgs2poses.py output/depth/047/\n",
      "python imgs2poses.py output/depth/048/\n",
      "python imgs2poses.py output/depth/049/\n",
      "python imgs2poses.py output/depth/050/\n",
      "python imgs2poses.py output/depth/051/\n",
      "python imgs2poses.py output/depth/052/\n",
      "python imgs2poses.py output/depth/053/\n",
      "python imgs2poses.py output/depth/054/\n",
      "python imgs2poses.py output/depth/055/\n",
      "python imgs2poses.py output/depth/056/\n",
      "python imgs2poses.py output/depth/057/\n",
      "python imgs2poses.py output/depth/058/\n",
      "python imgs2poses.py output/depth/059/\n",
      "python imgs2poses.py output/depth/060/\n",
      "python imgs2poses.py output/depth/061/\n",
      "python imgs2poses.py output/depth/062/\n",
      "python imgs2poses.py output/depth/063/\n",
      "python imgs2poses.py output/depth/064/\n",
      "python imgs2poses.py output/depth/065/\n",
      "python imgs2poses.py output/depth/066/\n",
      "python imgs2poses.py output/depth/067/\n",
      "python imgs2poses.py output/depth/068/\n",
      "python imgs2poses.py output/depth/069/\n",
      "python imgs2poses.py output/depth/070/\n",
      "python imgs2poses.py output/depth/071/\n",
      "python imgs2poses.py output/depth/072/\n",
      "python imgs2poses.py output/depth/073/\n",
      "python imgs2poses.py output/depth/074/\n",
      "python imgs2poses.py output/depth/075/\n",
      "python imgs2poses.py output/depth/076/\n",
      "python imgs2poses.py output/depth/077/\n",
      "python imgs2poses.py output/depth/078/\n",
      "python imgs2poses.py output/depth/079/\n",
      "python imgs2poses.py output/depth/080/\n",
      "python imgs2poses.py output/depth/081/\n",
      "python imgs2poses.py output/depth/082/\n",
      "python imgs2poses.py output/depth/083/\n",
      "python imgs2poses.py output/depth/084/\n",
      "python imgs2poses.py output/depth/085/\n",
      "python imgs2poses.py output/depth/086/\n",
      "python imgs2poses.py output/depth/087/\n",
      "python imgs2poses.py output/depth/088/\n",
      "python imgs2poses.py output/depth/089/\n",
      "python imgs2poses.py output/depth/090/\n",
      "python imgs2poses.py output/depth/091/\n",
      "python imgs2poses.py output/depth/092/\n",
      "python imgs2poses.py output/depth/093/\n",
      "python imgs2poses.py output/depth/094/\n",
      "python imgs2poses.py output/depth/095/\n",
      "python imgs2poses.py output/depth/096/\n",
      "python imgs2poses.py output/depth/097/\n",
      "python imgs2poses.py output/depth/098/\n",
      "python imgs2poses.py output/depth/099/\n",
      "python imgs2poses.py output/depth/100/\n",
      "python imgs2poses.py output/depth/101/\n",
      "python imgs2poses.py output/depth/102/\n",
      "python imgs2poses.py output/depth/103/\n",
      "python imgs2poses.py output/depth/104/\n",
      "python imgs2poses.py output/depth/105/\n",
      "python imgs2poses.py output/depth/106/\n",
      "python imgs2poses.py output/depth/107/\n",
      "python imgs2poses.py output/depth/108/\n",
      "python imgs2poses.py output/depth/109/\n",
      "python imgs2poses.py output/depth/110/\n",
      "python imgs2poses.py output/depth/111/\n",
      "python imgs2poses.py output/depth/112/\n",
      "python imgs2poses.py output/depth/113/\n",
      "python imgs2poses.py output/depth/114/\n",
      "python imgs2poses.py output/depth/115/\n",
      "python imgs2poses.py output/depth/116/\n",
      "python imgs2poses.py output/depth/117/\n",
      "python imgs2poses.py output/depth/118/\n",
      "python imgs2poses.py output/depth/119/\n"
     ]
    }
   ],
   "source": [
    "for e in range(NUM_EXP):\n",
    "    print(f'python imgs2poses.py output/depth/{e:03d}/')"
   ]
  },
  {
   "cell_type": "code",
   "execution_count": 156,
   "metadata": {},
   "outputs": [
    {
     "name": "stdout",
     "output_type": "stream",
     "text": [
      "78 [0, 1, 4, 5, 6, 7, 8, 9, 10, 11, 12, 13, 14, 15, 16, 17, 18, 19, 20, 21, 22, 23, 24, 25, 26, 27, 28, 29, 30, 31, 32, 33, 39, 40, 41, 42, 44, 45, 46, 47, 48, 49, 50, 51, 52, 53, 55, 62, 63, 64, 65, 66, 77, 78, 79, 80, 81, 82, 83, 84, 85, 86, 87, 90, 92, 102, 103, 104, 105, 106, 107, 108, 109, 110, 112, 117, 118, 119]\n"
     ]
    }
   ],
   "source": [
    "all_output = []\n",
    "\n",
    "for i in range(NUM_EXP):\n",
    "    # print(f'output/depth/{i:03d}/poses_bounds.npy')\n",
    "    if os.path.isfile(f'/data1/yijia.xiao/usda/LLFF/output/depth/{i:03d}/poses_bounds.npy'):\n",
    "        all_output.append(i)\n",
    "\n",
    "print(len(all_output), all_output)"
   ]
  },
  {
   "cell_type": "code",
   "execution_count": 158,
   "metadata": {},
   "outputs": [
    {
     "name": "stdout",
     "output_type": "stream",
     "text": [
      "[0, 1, 4, 5, 6, 7, 8, 9, 10, 11, 12, 13, 14, 15, 16, 17, 18, 19, 20, 21, 22, 23, 24, 25, 26, 27, 28, 29, 30, 31, 32, 33, 39, 40, 41, 42, 44, 45, 46, 47, 48, 49, 50, 51, 52, 53, 55, 62, 63, 64, 65, 66, 77, 78, 79, 80, 81, 82, 83, 84, 85, 86, 87, 90, 92, 102, 103, 104, 105, 106, 107, 108, 109, 110, 112, 117, 118, 119] 78\n"
     ]
    }
   ],
   "source": [
    "# valid = all_output[3:-18]\n",
    "valid = all_output\n",
    "print(valid, len(valid))"
   ]
  },
  {
   "cell_type": "code",
   "execution_count": 160,
   "metadata": {},
   "outputs": [
    {
     "name": "stdout",
     "output_type": "stream",
     "text": [
      "Loaded image data (760, 1352, 3, 10) [ 760.         1352.          997.87787252]\n",
      "Loaded image data (760, 1352, 3, 10) [ 760.         1352.         1000.99337073]\n",
      "Loaded image data (760, 1352, 3, 10) [ 760.        1352.        1001.8561005]\n",
      "Loaded image data (760, 1352, 3, 10) [ 760.         1352.         1002.42490846]\n",
      "Loaded image data (760, 1352, 3, 10) [ 760.         1352.         1002.62672586]\n",
      "Loaded image data (760, 1352, 3, 10) [ 760.        1352.        1002.8317299]\n",
      "Loaded image data (760, 1352, 3, 10) [ 760.         1352.         1007.74893739]\n",
      "Loaded image data (760, 1352, 3, 10) [ 760.        1352.        1004.9964827]\n",
      "Loaded image data (760, 1352, 3, 10) [ 760.         1352.         1006.16678316]\n",
      "Loaded image data (760, 1352, 3, 10) [ 760.         1352.         1005.31385005]\n",
      "Loaded image data (760, 1352, 3, 10) [ 760.         1352.         1006.59087538]\n",
      "Loaded image data (760, 1352, 3, 10) [ 760.         1352.          993.42159419]\n",
      "Loaded image data (760, 1352, 3, 10) [ 760.         1352.          992.74497911]\n",
      "Loaded image data (760, 1352, 3, 10) [ 760.         1352.          995.02448164]\n",
      "Loaded image data (760, 1352, 3, 10) [ 760.         1352.          998.61579488]\n",
      "Loaded image data (760, 1352, 3, 10) [ 760.        1352.        1003.6281425]\n",
      "Loaded image data (760, 1352, 3, 10) [ 760.         1352.         1007.87372317]\n",
      "Loaded image data (760, 1352, 3, 10) [ 760.         1352.         1007.63198089]\n",
      "Loaded image data (760, 1352, 3, 10) [ 760.         1352.         1000.89427995]\n",
      "Loaded image data (760, 1352, 3, 10) [ 760.         1352.          987.91922143]\n",
      "Loaded image data (760, 1352, 3, 10) [ 760.         1352.          975.23586525]\n",
      "Loaded image data (760, 1352, 3, 10) [ 760.         1352.          987.32547241]\n",
      "Loaded image data (760, 1352, 3, 10) [ 760.         1352.          994.42384503]\n",
      "Loaded image data (760, 1352, 3, 10) [ 760.         1352.          998.87625975]\n",
      "Loaded image data (760, 1352, 3, 10) [ 760.         1352.          999.40155845]\n",
      "Loaded image data (760, 1352, 3, 10) [ 760.         1352.         1006.83460101]\n",
      "Loaded image data (760, 1352, 3, 10) [ 760.         1352.         1007.24604709]\n",
      "Loaded image data (760, 1352, 3, 10) [ 760.         1352.         1009.15535804]\n",
      "Loaded image data (760, 1352, 3, 10) [ 760.         1352.         1007.05325919]\n",
      "Mismatch between imgs 10 and poses 9 !!!!\n",
      "Mismatch between imgs 10 and poses 8 !!!!\n",
      "Mismatch between imgs 10 and poses 7 !!!!\n",
      "Mismatch between imgs 10 and poses 6 !!!!\n",
      "Mismatch between imgs 10 and poses 5 !!!!\n",
      "Mismatch between imgs 10 and poses 4 !!!!\n",
      "Mismatch between imgs 10 and poses 3 !!!!\n",
      "Loaded image data (760, 1352, 3, 10) [ 760.         1352.          981.89654523]\n",
      "Loaded image data (760, 1352, 3, 10) [ 760.         1352.          935.75815749]\n",
      "Loaded image data (760, 1352, 3, 10) [ 760.        1352.         948.4889941]\n",
      "Loaded image data (760, 1352, 3, 10) [ 760.        1352.         952.4364211]\n",
      "Loaded image data (760, 1352, 3, 10) [ 760.         1352.          950.18631345]\n",
      "Loaded image data (760, 1352, 3, 10) [ 760.         1352.          949.35180569]\n",
      "Loaded image data (760, 1352, 3, 10) [ 760.         1352.          950.86774258]\n",
      "Loaded image data (760, 1352, 3, 10) [ 760.       1352.        954.943235]\n",
      "Loaded image data (760, 1352, 3, 10) [ 760.         1352.          958.22488637]\n",
      "Mismatch between imgs 10 and poses 9 !!!!\n",
      "Mismatch between imgs 10 and poses 7 !!!!\n",
      "Mismatch between imgs 10 and poses 7 !!!!\n",
      "Mismatch between imgs 10 and poses 6 !!!!\n",
      "Mismatch between imgs 10 and poses 5 !!!!\n",
      "Mismatch between imgs 10 and poses 4 !!!!\n",
      "Mismatch between imgs 10 and poses 2 !!!!\n",
      "Loaded image data (760, 1352, 3, 10) [ 760.         1352.         1004.68993923]\n",
      "Loaded image data (760, 1352, 3, 10) [ 760.         1352.         1008.06223643]\n",
      "Loaded image data (760, 1352, 3, 10) [ 760.         1352.         1009.53231437]\n",
      "Loaded image data (760, 1352, 3, 10) [ 760.         1352.         1006.50896429]\n",
      "Loaded image data (760, 1352, 3, 10) [ 760.         1352.         1009.00342766]\n",
      "Loaded image data (760, 1352, 3, 10) [ 760.         1352.         1011.25028559]\n",
      "Loaded image data (760, 1352, 3, 10) [ 760.        1352.        1018.8292216]\n",
      "Loaded image data (760, 1352, 3, 10) [ 760.         1352.         1017.37896558]\n",
      "Loaded image data (760, 1352, 3, 10) [ 760.         1352.         1018.13198572]\n",
      "Loaded image data (760, 1352, 3, 10) [ 760.         1352.         1001.52380481]\n",
      "Loaded image data (760, 1352, 3, 10) [ 760.         1352.         1003.07233193]\n",
      "Loaded image data (760, 1352, 3, 10) [ 760.         1352.         1021.72511786]\n",
      "Loaded image data (760, 1352, 3, 10) [ 760.         1352.         1024.58111092]\n",
      "Loaded image data (760, 1352, 3, 10) [ 760.         1352.         1001.38577956]\n",
      "Mismatch between imgs 10 and poses 4 !!!!\n",
      "Loaded image data (760, 1352, 3, 10) [ 760.         1352.         1001.57517149]\n",
      "Loaded image data (760, 1352, 3, 10) [ 760.         1352.         1000.60445387]\n",
      "Loaded image data (760, 1352, 3, 10) [ 760.         1352.         1001.98760019]\n",
      "Loaded image data (760, 1352, 3, 10) [ 760.        1352.        1002.3824317]\n",
      "Loaded image data (760, 1352, 3, 10) [ 760.         1352.          999.12696743]\n",
      "Loaded image data (760, 1352, 3, 10) [ 760.        1352.         991.7734098]\n",
      "Mismatch between imgs 10 and poses 9 !!!!\n",
      "Mismatch between imgs 10 and poses 7 !!!!\n",
      "Loaded image data (760, 1352, 3, 10) [ 760.         1352.         1000.40200664]\n",
      "Loaded image data (760, 1352, 3, 10) [ 760.         1352.          996.86699779]\n",
      "Loaded image data (760, 1352, 3, 10) [ 760.         1352.          995.39766117]\n"
     ]
    }
   ],
   "source": [
    "from load import load_data\n",
    "\n",
    "# NUM_EXP = 30\n",
    "pose_data = []\n",
    "\n",
    "pose_dict = dict()\n",
    "# for e in range(NUM_EXP):\n",
    "for e in valid:\n",
    "    pose_data.append(load_data(basedir=f'output/depth/{e:03d}/'))\n",
    "    pose_dict[e] = pose_data[-1]"
   ]
  },
  {
   "cell_type": "code",
   "execution_count": 161,
   "metadata": {},
   "outputs": [
    {
     "data": {
      "text/plain": [
       "78"
      ]
     },
     "execution_count": 161,
     "metadata": {},
     "output_type": "execute_result"
    }
   ],
   "source": [
    "len(pose_data)"
   ]
  },
  {
   "cell_type": "code",
   "execution_count": 162,
   "metadata": {},
   "outputs": [],
   "source": [
    "idx2depth = dict()\n",
    "\n",
    "for i in range(NUM_EXP):\n",
    "    if i not in valid:\n",
    "        idx2depth[i] = None\n",
    "    else:\n",
    "        idx2depth[i] = pose_dict[i]"
   ]
  },
  {
   "cell_type": "code",
   "execution_count": 165,
   "metadata": {},
   "outputs": [
    {
     "name": "stdout",
     "output_type": "stream",
     "text": [
      "None\n"
     ]
    }
   ],
   "source": [
    "# print(idx2depth[31])"
   ]
  },
  {
   "cell_type": "code",
   "execution_count": 168,
   "metadata": {},
   "outputs": [
    {
     "data": {
      "text/plain": [
       "((3, 5, 10), (2, 10))"
      ]
     },
     "execution_count": 168,
     "metadata": {},
     "output_type": "execute_result"
    }
   ],
   "source": [
    "pose_data[0][0].shape, pose_data[0][1].shape"
   ]
  },
  {
   "cell_type": "code",
   "execution_count": 169,
   "metadata": {},
   "outputs": [
    {
     "data": {
      "text/plain": [
       "((3, 5, 10), (2, 10))"
      ]
     },
     "execution_count": 169,
     "metadata": {},
     "output_type": "execute_result"
    }
   ],
   "source": [
    "pose_data[1][0].shape, pose_data[1][1].shape"
   ]
  },
  {
   "cell_type": "code",
   "execution_count": 172,
   "metadata": {},
   "outputs": [],
   "source": [
    "# depth_data = []\n",
    "\n",
    "# for idx, pose in enumerate(pose_data):\n",
    "#     if not pose:\n",
    "#         print(idx, pose)\n",
    "#     depth_data.append(pose[1])"
   ]
  },
  {
   "cell_type": "code",
   "execution_count": 48,
   "metadata": {},
   "outputs": [],
   "source": [
    "# fps=2. 11 images per group, 30 groups in all. Discard first 5 (2 groups failed)\n",
    "# for depth in depth_data:\n",
    "#     print(depth_data)"
   ]
  },
  {
   "cell_type": "code",
   "execution_count": 180,
   "metadata": {},
   "outputs": [],
   "source": [
    "# len(idx2depth)"
   ]
  },
  {
   "cell_type": "code",
   "execution_count": 181,
   "metadata": {},
   "outputs": [],
   "source": [
    "# depth_data"
   ]
  },
  {
   "cell_type": "code",
   "execution_count": 184,
   "metadata": {},
   "outputs": [
    {
     "data": {
      "text/plain": [
       "(3, 5, 10)"
      ]
     },
     "execution_count": 184,
     "metadata": {},
     "output_type": "execute_result"
    }
   ],
   "source": [
    "idx2depth[0][0].shape"
   ]
  },
  {
   "cell_type": "code",
   "execution_count": 186,
   "metadata": {},
   "outputs": [],
   "source": [
    "# idx2depth"
   ]
  },
  {
   "cell_type": "code",
   "execution_count": 192,
   "metadata": {},
   "outputs": [
    {
     "data": {
      "text/plain": [
       "array([[ 31.32319923,  31.75822308,  32.88233681,  33.4820508 ,\n",
       "         33.46726472,  37.22650098,  40.52996688,  34.43913587,\n",
       "         33.2779402 ,  34.52855576],\n",
       "       [113.39392249, 113.76105343, 114.04790702, 107.4365537 ,\n",
       "        102.669188  , 110.94362117, 114.21046364, 113.32702297,\n",
       "        114.12441716, 115.26601373]])"
      ]
     },
     "execution_count": 192,
     "metadata": {},
     "output_type": "execute_result"
    }
   ],
   "source": [
    "# idx2depth[0][1]"
   ]
  },
  {
   "cell_type": "code",
   "execution_count": 196,
   "metadata": {},
   "outputs": [
    {
     "data": {
      "text/plain": [
       "31.32319923082477"
      ]
     },
     "execution_count": 196,
     "metadata": {},
     "output_type": "execute_result"
    }
   ],
   "source": [
    "idx2depth[0][1][0][0]"
   ]
  },
  {
   "cell_type": "code",
   "execution_count": 198,
   "metadata": {},
   "outputs": [],
   "source": []
  },
  {
   "cell_type": "code",
   "execution_count": 202,
   "metadata": {},
   "outputs": [
    {
     "data": {
      "image/png": "[encoded data removed]",
      "text/plain": [
       "<Figure size 640x480 with 1 Axes>"
      ]
     },
     "metadata": {},
     "output_type": "display_data"
    }
   ],
   "source": [
    "import sys\n",
    "import matplotlib.pyplot as plt\n",
    "import numpy as np\n",
    "\n",
    "%matplotlib inline\n",
    "# x = np.array([5,7,8,7,2,17,2,9,4,11,12,9,6])\n",
    "# y = np.array([99,86,87,88,111,86,103,87,94,78,77,85,86])\n",
    "x, y = [], []\n",
    "\n",
    "# depth_data = idx2depth\n",
    "for i in range(len(idx2depth)):\n",
    "    for j in range(len(idx2depth[0][1])):\n",
    "        x.append(i + j)\n",
    "        if idx2depth[i] is not None:\n",
    "            y.append(idx2depth[i][1][0][j])\n",
    "        else:\n",
    "            y.append(0)\n",
    "        # y.append(depth_data[i][0][j])\n",
    "\n",
    "\n",
    "x, y = np.array(x), np.array(y)\n",
    "plt.scatter(x, y)\n",
    "\n",
    "\n",
    "x, y = [], []\n",
    "for i in range(len(idx2depth)):\n",
    "    for j in range(len(idx2depth[0][1])):\n",
    "        x.append(i + j)\n",
    "        # y.append(depth_data[i][1][j])\n",
    "        if idx2depth[i] is not None:\n",
    "            y.append(idx2depth[i][1][1][j])\n",
    "        else:\n",
    "            y.append(0)\n",
    "\n",
    "x, y = np.array(x), np.array(y)\n",
    "plt.scatter(x, y)\n",
    "\n",
    "plt.title('Close and Inf Depth\\nBlue dots: close depth. Yellow dots: infinity depth.')\n",
    "\n",
    "plt.xlabel('frame index')\n",
    "plt.ylabel('depth')\n",
    "\n",
    "# plt.show()\n",
    "plt.savefig('./fps2-120.png')"
   ]
  },
  {
   "cell_type": "code",
   "execution_count": 209,
   "metadata": {},
   "outputs": [
    {
     "data": {
      "text/plain": [
       "(array([[ 31.32319923,  31.75822308,  32.88233681,  33.4820508 ,\n",
       "          33.46726472,  37.22650098,  40.52996688,  34.43913587,\n",
       "          33.2779402 ,  34.52855576],\n",
       "        [113.39392249, 113.76105343, 114.04790702, 107.4365537 ,\n",
       "         102.669188  , 110.94362117, 114.21046364, 113.32702297,\n",
       "         114.12441716, 115.26601373]]),\n",
       " array([[ 35.14255669,  36.20621496,  36.7234201 ,  36.5644232 ,\n",
       "          38.85158236,  43.86623284,  38.21238354,  36.72533798,\n",
       "          38.04327362,  32.31209313],\n",
       "        [125.14994438, 125.36228622, 118.04324569, 112.4627239 ,\n",
       "         121.50780993, 128.38050578, 126.95301974, 128.20702929,\n",
       "         129.94721571, 123.95146619]]))"
      ]
     },
     "execution_count": 209,
     "metadata": {},
     "output_type": "execute_result"
    }
   ],
   "source": [
    "idx2depth[0][1], idx2depth[1][1]"
   ]
  },
  {
   "cell_type": "code",
   "execution_count": 213,
   "metadata": {},
   "outputs": [
    {
     "data": {
      "text/plain": [
       "120"
      ]
     },
     "execution_count": 213,
     "metadata": {},
     "output_type": "execute_result"
    }
   ],
   "source": [
    "len(idx2depth)"
   ]
  },
  {
   "cell_type": "code",
   "execution_count": 212,
   "metadata": {},
   "outputs": [
    {
     "data": {
      "text/plain": [
       "((3.062732587745508, 50.48107697565604, 12.378018783758613, 9.339997229322941),\n",
       " (4.915892526406513, 129.94721570698746, 32.87346210501894, 29.14508403466622))"
      ]
     },
     "execution_count": 212,
     "metadata": {},
     "output_type": "execute_result"
    }
   ],
   "source": [
    "CLOSE, INF = [], []\n",
    "\n",
    "for idx, depth in idx2depth.items():\n",
    "    if depth:\n",
    "        close, inf = depth[1]\n",
    "        # print(close.shape)\n",
    "        CLOSE.extend(close)\n",
    "        INF.extend(inf)\n",
    "\n",
    "import statistics\n",
    "\n",
    "def calc_min_max_mean_dev(L):\n",
    "    return min(L), max(L), sum(L) / len(L), statistics.stdev(L)\n",
    "\n",
    "calc_min_max_mean_dev(CLOSE), calc_min_max_mean_dev(INF)"
   ]
  },
  {
   "cell_type": "code",
   "execution_count": 32,
   "metadata": {},
   "outputs": [],
   "source": []
  },
  {
   "cell_type": "code",
   "execution_count": 34,
   "metadata": {},
   "outputs": [
    {
     "data": {
      "text/plain": [
       "((5.589821102440255, 68.38848325165748, 17.09632806600643, 14.122085123784718),\n",
       " (9.350534285483427, 174.23050509235833, 44.73080282791705, 42.079562196427))"
      ]
     },
     "execution_count": 34,
     "metadata": {},
     "output_type": "execute_result"
    }
   ],
   "source": [
    "calc_min_max_mean_dev(CLOSE), calc_min_max_mean_dev(INF)"
   ]
  },
  {
   "cell_type": "code",
   "execution_count": 36,
   "metadata": {},
   "outputs": [
    {
     "data": {
      "text/plain": [
       "((5.589821102440255,\n",
       "  49.681047097241375,\n",
       "  15.141958711621692,\n",
       "  10.920568805929127),\n",
       " (9.350534285483427,\n",
       "  74.52626776687083,\n",
       "  20.122211109877714,\n",
       "  11.730968776620012))"
      ]
     },
     "execution_count": 36,
     "metadata": {},
     "output_type": "execute_result"
    }
   ],
   "source": [
    "calc_min_max_mean_dev([i for i in CLOSE if i < 50]), calc_min_max_mean_dev([i for i in INF if i < 75])"
   ]
  },
  {
   "cell_type": "code",
   "execution_count": 17,
   "metadata": {},
   "outputs": [
    {
     "data": {
      "image/png": "[encoded data removed]",
      "text/plain": [
       "<Figure size 640x480 with 1 Axes>"
      ]
     },
     "metadata": {},
     "output_type": "display_data"
    }
   ],
   "source": [
    "import sys\n",
    "import matplotlib.pyplot as plt\n",
    "import numpy as np\n",
    "\n",
    "%matplotlib inline\n",
    "# x = np.array([5,7,8,7,2,17,2,9,4,11,12,9,6])\n",
    "# y = np.array([99,86,87,88,111,86,103,87,94,78,77,85,86])\n",
    "x, y = [], []\n",
    "\n",
    "for i in range(len(depth_data)):\n",
    "    for j in range(len(depth_data[0][0])):\n",
    "        x.append(i + j)\n",
    "        y.append(depth_data[i][1][j])\n",
    "\n",
    "x, y = np.array(x), np.array(y)\n",
    "plt.scatter(x, y)\n",
    "plt.show()"
   ]
  },
  {
   "cell_type": "code",
   "execution_count": 12,
   "metadata": {},
   "outputs": [
    {
     "data": {
      "image/png": "[encoded data removed]",
      "text/plain": [
       "<Figure size 640x480 with 1 Axes>"
      ]
     },
     "metadata": {},
     "output_type": "display_data"
    }
   ],
   "source": [
    "import sys\n",
    "import matplotlib.pyplot as plt\n",
    "import numpy as np\n",
    "\n",
    "%matplotlib inline\n",
    "\n",
    "x = np.array([5,7,8,7,2,17,2,9,4,11,12,9,6])\n",
    "y = np.array([99,86,87,88,111,86,103,87,94,78,77,85,86])\n",
    "plt.scatter(x, y)\n",
    "\n",
    "x = np.array([2,2,8,1,15,8,12,9,7,3,11,4,7,14,12])\n",
    "y = np.array([100,105,84,105,90,99,90,95,94,100,79,112,91,80,85])\n",
    "plt.scatter(x, y)\n",
    "\n",
    "x = np.array([2,2,8,1,15,8,12,9,7,3,11,4,7,14,12])\n",
    "y = np.array([100,105,84,105,90,99,90,95,94,100,79,112,91,80,85])\n",
    "plt.scatter(x, y)\n",
    "\n",
    "plt.show()"
   ]
  },
  {
   "cell_type": "code",
   "execution_count": null,
   "metadata": {},
   "outputs": [],
   "source": []
  }
 ],
 "metadata": {
  "kernelspec": {
   "display_name": "Python 3 (ipykernel)",
   "language": "python",
   "name": "python3"
  },
  "language_info": {
   "codemirror_mode": {
    "name": "ipython",
    "version": 3
   },
   "file_extension": ".py",
   "mimetype": "text/x-python",
   "name": "python",
   "nbconvert_exporter": "python",
   "pygments_lexer": "ipython3",
   "version": "3.7.12"
  },
  "vscode": {
   "interpreter": {
    "hash": "93321e96149674ab92bc94649b480f5b7023554cb203db457dbdde0d120d52d6"
   }
  }
 },
 "nbformat": 4,
 "nbformat_minor": 2
}
